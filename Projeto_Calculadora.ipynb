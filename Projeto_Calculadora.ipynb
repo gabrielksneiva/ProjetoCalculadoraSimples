{
  "nbformat": 4,
  "nbformat_minor": 0,
  "metadata": {
    "colab": {
      "provenance": [],
      "authorship_tag": "ABX9TyMaDTpUhOIbXTcHT5HZd0Ix",
      "include_colab_link": true
    },
    "kernelspec": {
      "name": "python3",
      "display_name": "Python 3"
    },
    "language_info": {
      "name": "python"
    }
  },
  "cells": [
    {
      "cell_type": "markdown",
      "metadata": {
        "id": "view-in-github",
        "colab_type": "text"
      },
      "source": [
        "<a href=\"https://colab.research.google.com/github/gabrielksneiva/ProjetoCalculadoraSimples/blob/main/Projeto_Calculadora.ipynb\" target=\"_parent\"><img src=\"https://colab.research.google.com/assets/colab-badge.svg\" alt=\"Open In Colab\"/></a>"
      ]
    },
    {
      "cell_type": "code",
      "source": [
        "#Defining functions\n",
        "def numbers():\n",
        "  n1 = float(input('Digite o valor do número 1: '))\n",
        "  n2 = float(input('Digite o valor do número 2: '))\n",
        "  return n1, n2\n",
        "\n",
        "def add(n1, n2):\n",
        "  return n1+n2\n",
        "\n",
        "def subt(n1, n2):\n",
        "  return n1-n2\n",
        "\n",
        "def mult(n1, n2):\n",
        "  return n1*n2\n",
        "\n",
        "def div(n1, n2):\n",
        "  return n1/n2\n",
        "\n",
        "def exp(n1, n2):\n",
        "  return n1**n2\n",
        "\n",
        "def sqrt(n1, n2):\n",
        "  return n1**(1/n2)\n",
        "\n",
        "#writing code\n",
        "def main():\n",
        "  quest = \"\"\"\n",
        "Escolha uma das operações abaixo para executar entre 2 números:\n",
        "  1 - Soma\n",
        "  2 - Subtração\n",
        "  3 - Multiplicação\n",
        "  4 - Divisão\n",
        "  5 - Potenciação\n",
        "  6 - Raíz quadrada\n",
        "  7 - Sair\n",
        "  \"\"\"\n",
        "  while True:\n",
        "    choice = input(quest)\n",
        "    if int(choice) == 1:\n",
        "      n1, n2 = numbers()\n",
        "      print(f'\\nO resultado da soma solicitada é {add(n1, n2):.2}\\n')\n",
        "    elif int(choice) == 2:\n",
        "      n1, n2 = numbers()\n",
        "      print(f'\\nO resultado da subtração solicitada é {subt(n1, n2):.2}\\n')\n",
        "    elif int(choice) == 3:\n",
        "      n1, n2 = numbers()\n",
        "      print(f'\\nO resultado da multiplicação solicitada é {mult(n1, n2):.2}\\n')\n",
        "    elif int(choice) == 4:\n",
        "      n1, n2 = numbers()\n",
        "      print(f'\\nO resultado da divisão solicitada é {div(n1, n2):.2}\\n')\n",
        "    elif int(choice) == 5:\n",
        "      n1, n2 = numbers()\n",
        "      print(f'\\nO resultado da potenciação solicitada é {exp(n1, n2):.2f}\\n')\n",
        "    elif int(choice) == 6:\n",
        "      n1, n2 = numbers()\n",
        "      print(f'\\nO resultado da raíz quadrada solicitada é {sqrt(n1, n2):.2f}\\n')\n",
        "    elif int(choice) == 7:\n",
        "      print('\\nObrigado por utilizar esta calculadora! Até mais!\\n\\n')\n",
        "      break\n",
        "\n",
        "if __name__ == \"__main__\":\n",
        "  main()"
      ],
      "metadata": {
        "colab": {
          "base_uri": "https://localhost:8080/"
        },
        "id": "B8uooVn5IHwl",
        "outputId": "fc3243ff-5758-421a-8241-d7d5bf6a7899"
      },
      "execution_count": null,
      "outputs": [
        {
          "output_type": "stream",
          "name": "stdout",
          "text": [
            "\n",
            "Escolha uma das operações abaixo para executar entre 2 números:\n",
            "  1 - Soma\n",
            "  2 - Subtração\n",
            "  3 - Multiplicação\n",
            "  4 - Divisão\n",
            "  5 - Potenciação\n",
            "  6 - Raíz quadrada\n",
            "  7 - Sair\n",
            "  4\n",
            "Digite o valor do número 1: 4\n",
            "Digite o valor do número 2: 4\n",
            "\n",
            "O resultado da divisão solicitada é 1.0\n",
            "\n",
            "\n",
            "Escolha uma das operações abaixo para executar entre 2 números:\n",
            "  1 - Soma\n",
            "  2 - Subtração\n",
            "  3 - Multiplicação\n",
            "  4 - Divisão\n",
            "  5 - Potenciação\n",
            "  6 - Raíz quadrada\n",
            "  7 - Sair\n",
            "  7\n",
            "\n",
            "Obrigado por utilizar esta calculadora! Até mais!\n",
            "\n",
            "\n"
          ]
        }
      ]
    },
    {
      "cell_type": "code",
      "source": [],
      "metadata": {
        "id": "WHkJMLfrIzF5"
      },
      "execution_count": null,
      "outputs": []
    }
  ]
}